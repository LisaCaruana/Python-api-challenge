{
 "cells": [
  {
   "cell_type": "markdown",
   "metadata": {},
   "source": [
    "# WeatherPy\n",
    "----\n",
    "\n",
    "#### Note\n",
    "* Instructions have been included for each segment. You do not have to follow them exactly, but they are included to help you think through the steps."
   ]
  },
  {
   "cell_type": "code",
   "execution_count": 45,
   "metadata": {
    "scrolled": true
   },
   "outputs": [],
   "source": [
    "# Dependencies and Setup\n",
    "import matplotlib.pyplot as plt\n",
    "import pandas as pd\n",
    "import numpy as np\n",
    "import requests\n",
    "import time\n",
    "from scipy.stats import linregress\n",
    "from pprint import pprint\n",
    "\n",
    "# Import API key\n",
    "# from api_keys import weather_api_key\n",
    "\n",
    "from api_keys import weather_api_key\n",
    "\n",
    "# Incorporated citipy to determine city based on latitude and longitude\n",
    "from citipy import citipy\n",
    "\n",
    "# Output File (CSV)\n",
    "output_data_file = \"output_data/cities.csv\"\n",
    "\n",
    "# Range of latitudes and longitudes\n",
    "lat_range = (-90, 90)\n",
    "lng_range = (-180, 180)"
   ]
  },
  {
   "cell_type": "markdown",
   "metadata": {},
   "source": [
    "## Generate Cities List"
   ]
  },
  {
   "cell_type": "code",
   "execution_count": 107,
   "metadata": {},
   "outputs": [
    {
     "data": {
      "text/plain": [
       "625"
      ]
     },
     "execution_count": 107,
     "metadata": {},
     "output_type": "execute_result"
    }
   ],
   "source": [
    "# List for holding lat_lngs and cities\n",
    "lat_lngs = []\n",
    "cities = []\n",
    "\n",
    "# Create a set of random lat and lng combinations\n",
    "lats = np.random.uniform(lat_range[0], lat_range[1], size=1500)\n",
    "lngs = np.random.uniform(lng_range[0], lng_range[1], size=1500)\n",
    "lat_lngs = zip(lats, lngs)\n",
    "\n",
    "# Identify nearest city for each lat, lng combination\n",
    "for lat_lng in lat_lngs:\n",
    "    city = citipy.nearest_city(lat_lng[0], lat_lng[1]).city_name\n",
    "    \n",
    "    # If the city is unique, then add it to a our cities list\n",
    "    if city not in cities:\n",
    "        cities.append(city)\n",
    "\n",
    "# Print the city count to confirm sufficient count\n",
    "len(cities)"
   ]
  },
  {
   "cell_type": "markdown",
   "metadata": {},
   "source": [
    "### Perform API Calls\n",
    "* Perform a weather check on each city using a series of successive API calls.\n",
    "* Include a print log of each city as it'sbeing processed (with the city number and city name).\n"
   ]
  },
  {
   "cell_type": "code",
   "execution_count": 109,
   "metadata": {},
   "outputs": [
    {
     "name": "stdout",
     "output_type": "stream",
     "text": [
      "dikson\n",
      "lagoa\n",
      "rikitea\n",
      "ushuaia\n",
      "punta arenas\n",
      "hilo\n",
      "longyearbyen\n",
      "City not found. Skipping...\n",
      "dunda\n",
      "upington\n",
      "vaini\n",
      "port alfred\n",
      "saint-pierre\n",
      "shimoda\n",
      "janakpur\n",
      "avarua\n",
      "zapolyarnyy\n",
      "faya\n",
      "lebu\n",
      "castro\n",
      "albany\n",
      "jamestown\n",
      "pevek\n",
      "butaritari\n",
      "severnyy\n",
      "bluff\n",
      "City not found. Skipping...\n",
      "mataura\n",
      "busselton\n",
      "provideniya\n",
      "ribeira grande\n",
      "City not found. Skipping...\n",
      "port lincoln\n",
      "bredasdorp\n",
      "City not found. Skipping...\n",
      "marsh harbour\n",
      "City not found. Skipping...\n",
      "tual\n",
      "City not found. Skipping...\n",
      "mount isa\n",
      "upernavik\n",
      "acajutla\n",
      "ponta do sol\n",
      "zhangye\n",
      "chernyshevskiy\n",
      "airai\n",
      "green river\n",
      "barrow\n",
      "gejiu\n",
      "cabedelo\n",
      "atuona\n",
      "City not found. Skipping...\n",
      "hamilton\n",
      "carnarvon\n",
      "nemuro\n",
      "yellowknife\n",
      "bria\n",
      "kaitangata\n",
      "lompoc\n",
      "haines junction\n",
      "zaysan\n",
      "mar del plata\n",
      "nauta\n",
      "ostrovnoy\n",
      "kulykivka\n",
      "hithadhoo\n",
      "bethel\n",
      "thayetmyo\n",
      "hobart\n",
      "pervomayskiy\n",
      "City not found. Skipping...\n",
      "victoria\n",
      "hortolandia\n",
      "ziarat\n",
      "arlit\n",
      "clyde river\n",
      "chokurdakh\n",
      "petrivka\n",
      "edgewater\n",
      "bubaque\n",
      "ancud\n",
      "cabo san lucas\n",
      "nikolskoye\n",
      "City not found. Skipping...\n",
      "chuy\n",
      "tabas\n",
      "zhigansk\n",
      "iqaluit\n",
      "rocha\n",
      "kodiak\n",
      "praia da vitoria\n",
      "san jose\n",
      "qaanaaq\n",
      "mount gambier\n",
      "fort oglethorpe\n",
      "bengkulu\n",
      "ambilobe\n",
      "maniitsoq\n",
      "east london\n",
      "susanville\n",
      "faanui\n",
      "City not found. Skipping...\n",
      "bajram curri\n",
      "saint-philippe\n",
      "rolla\n",
      "hualmay\n",
      "katsuura\n",
      "west helena\n",
      "georgetown\n",
      "cape town\n",
      "City not found. Skipping...\n",
      "mukhen\n",
      "geraldton\n",
      "ahipara\n",
      "ratnagiri\n",
      "huilong\n",
      "evensk\n",
      "ayagoz\n",
      "broken hill\n",
      "vostok\n",
      "hermanus\n",
      "port elizabeth\n",
      "onokhoy\n",
      "letlhakane\n",
      "awbari\n",
      "City not found. Skipping...\n",
      "avera\n",
      "hasaki\n",
      "City not found. Skipping...\n",
      "port blair\n",
      "pisco\n",
      "City not found. Skipping...\n",
      "fortuna foothills\n",
      "shakawe\n",
      "City not found. Skipping...\n",
      "kirakira\n",
      "torbay\n",
      "mildura\n",
      "arraial do cabo\n",
      "narsaq\n",
      "xingyi\n",
      "kapaa\n",
      "City not found. Skipping...\n",
      "sao filipe\n",
      "eregli\n",
      "kruisfontein\n",
      "aguimes\n",
      "phan thiet\n",
      "sept-iles\n",
      "antofagasta\n",
      "paso de los toros\n",
      "kavieng\n",
      "husavik\n",
      "kiama\n",
      "sumbuya\n",
      "pakxan\n",
      "sabha\n",
      "kirando\n",
      "touros\n",
      "muisne\n",
      "City not found. Skipping...\n",
      "tucuma\n",
      "manicore\n",
      "atar\n",
      "qurayyat\n",
      "City not found. Skipping...\n",
      "barra patuca\n",
      "City not found. Skipping...\n",
      "City not found. Skipping...\n",
      "bintulu\n",
      "sokyryany\n",
      "City not found. Skipping...\n",
      "quatre cocos\n",
      "new norfolk\n",
      "wanaka\n",
      "charqueadas\n",
      "acarau\n",
      "mecca\n",
      "puerto ayora\n",
      "tulsipur\n",
      "jaisinghnagar\n",
      "nanchang\n",
      "matay\n",
      "bentiu\n",
      "City not found. Skipping...\n",
      "san quintin\n",
      "City not found. Skipping...\n",
      "tasiilaq\n",
      "karasburg\n",
      "marawi\n",
      "portland\n",
      "aksay\n",
      "necochea\n",
      "huarmey\n",
      "medea\n",
      "andenes\n",
      "flinders\n",
      "cidreira\n",
      "darovskoy\n",
      "sirvintos\n",
      "paamiut\n",
      "nanortalik\n",
      "bambous virieux\n",
      "City not found. Skipping...\n",
      "hornepayne\n",
      "westport\n",
      "City not found. Skipping...\n",
      "chiriqui grande\n",
      "dwarka\n",
      "poum\n",
      "southern pines\n",
      "City not found. Skipping...\n",
      "guavata\n",
      "komsomolskiy\n",
      "City not found. Skipping...\n",
      "norman wells\n",
      "general roca\n",
      "coquimbo\n",
      "kidal\n",
      "el alto\n",
      "port hardy\n",
      "sun valley\n",
      "sao miguel do araguaia\n",
      "sobolevo\n",
      "esperance\n",
      "luderitz\n",
      "tura\n",
      "pangody\n",
      "auki\n",
      "mao\n",
      "segezha\n",
      "mahebourg\n",
      "bajil\n",
      "scarborough\n",
      "port keats\n",
      "charters towers\n",
      "berdigestyakh\n",
      "caravelas\n",
      "yumen\n",
      "palmer\n",
      "City not found. Skipping...\n",
      "taoudenni\n",
      "novopavlovka\n",
      "manzhouli\n",
      "olden\n",
      "bonthe\n",
      "clarence town\n",
      "ulladulla\n",
      "khromtau\n",
      "knyaze-volkonskoye\n",
      "fare\n",
      "alice town\n",
      "laguna\n",
      "pleshanovo\n",
      "bogorodskoye\n",
      "bugko\n",
      "kahului\n",
      "richards bay\n",
      "tiksi\n",
      "mehamn\n",
      "City not found. Skipping...\n",
      "kalmunai\n",
      "nuuk\n",
      "orlik\n",
      "penzance\n",
      "henties bay\n",
      "hede\n",
      "batemans bay\n",
      "khatanga\n",
      "gazojak\n",
      "inhambane\n",
      "juba\n",
      "weihe\n",
      "boende\n",
      "antalaha\n",
      "City not found. Skipping...\n",
      "mahad\n",
      "olafsvik\n",
      "City not found. Skipping...\n",
      "bucerias\n",
      "pleasanton\n",
      "anadyr\n",
      "petropavlovsk-kamchatskiy\n",
      "sao sebastiao\n",
      "City not found. Skipping...\n",
      "kankan\n",
      "klaksvik\n",
      "turukhansk\n",
      "tessalit\n",
      "tadine\n",
      "ouargaye\n",
      "aktash\n",
      "ketchikan\n",
      "thompson\n",
      "tuktoyaktuk\n",
      "jinhua\n",
      "ambon\n",
      "acapulco\n",
      "iracoubo\n",
      "quelimane\n",
      "khakhea\n",
      "hotaka\n",
      "shingu\n",
      "el tigre\n",
      "whitehorse\n",
      "te anau\n",
      "hajan\n",
      "qinhuangdao\n",
      "abha\n",
      "karasjok\n",
      "kokopo\n",
      "severo-kurilsk\n",
      "saint george\n",
      "erzin\n",
      "nouakchott\n",
      "ukiah\n",
      "chapleau\n",
      "cherepovets\n",
      "bosaso\n",
      "baykit\n",
      "vanavara\n",
      "nalut\n",
      "noyabrsk\n",
      "alta floresta\n",
      "sambava\n",
      "cherskiy\n",
      "yuancheng\n",
      "kunigal\n",
      "pauini\n",
      "maumere\n",
      "abu dhabi\n",
      "todos santos\n",
      "farah\n",
      "hit\n",
      "ilulissat\n",
      "bom jesus\n",
      "broome\n",
      "makakilo city\n",
      "regina\n",
      "tamluk\n",
      "ballina\n",
      "bilibino\n",
      "abnub\n",
      "magistralnyy\n",
      "mamurras\n",
      "kieta\n",
      "City not found. Skipping...\n",
      "abonnema\n",
      "langham\n",
      "berbera\n",
      "seoul\n",
      "aksarka\n",
      "samarai\n",
      "hobyo\n",
      "sao joao da barra\n",
      "saskylakh\n",
      "vega de alatorre\n",
      "bathsheba\n",
      "rio claro\n",
      "kovdor\n",
      "arman\n",
      "yarensk\n",
      "formosa\n",
      "kudahuvadhoo\n",
      "ola\n",
      "labuhan\n",
      "heishan\n",
      "rawson\n",
      "imeni poliny osipenko\n",
      "vestmanna\n",
      "riyadh\n",
      "souillac\n",
      "campechuela\n",
      "tuatapere\n",
      "vallenar\n",
      "nchelenge\n",
      "lorengau\n",
      "pahrump\n",
      "san policarpo\n",
      "autun\n",
      "ponta delgada\n",
      "kichera\n",
      "micheweni\n",
      "cockburn town\n",
      "manaus\n",
      "noumea\n",
      "City not found. Skipping...\n",
      "dalhousie\n",
      "meulaboh\n",
      "saint-francois\n",
      "lata\n",
      "nampula\n",
      "gafanha da encarnacao\n",
      "coihaique\n",
      "oktyabrskoye\n",
      "thinadhoo\n",
      "kloulklubed\n",
      "havre-saint-pierre\n",
      "okulovka\n",
      "City not found. Skipping...\n",
      "vila velha\n",
      "channel-port aux basques\n",
      "bulgan\n",
      "guerrero negro\n",
      "mandalgovi\n",
      "galle\n",
      "upata\n",
      "west odessa\n",
      "tateyama\n",
      "nevers\n",
      "saint-augustin\n",
      "katangli\n",
      "nome\n",
      "City not found. Skipping...\n",
      "phulpur\n",
      "cairns\n",
      "picos\n",
      "hambantota\n",
      "nagorsk\n",
      "omsukchan\n",
      "vao\n",
      "amapa\n",
      "areia branca\n",
      "sinnamary\n",
      "gimli\n",
      "moba\n",
      "halifax\n",
      "bukama\n",
      "walvis bay\n",
      "dakar\n",
      "chumikan\n",
      "vanimo\n",
      "wawa\n",
      "siva\n",
      "camacari\n",
      "stolin\n",
      "puerto baquerizo moreno\n",
      "kashi\n",
      "labuan\n",
      "udachnyy\n",
      "yeppoon\n",
      "codrington\n",
      "City not found. Skipping...\n",
      "lehigh acres\n",
      "omboue\n",
      "City not found. Skipping...\n",
      "City not found. Skipping...\n",
      "charleville-mezieres\n",
      "lasa\n",
      "soledar\n",
      "opuwo\n",
      "lodwar\n",
      "mantua\n",
      "dongli\n",
      "sitka\n",
      "nioro\n",
      "egvekinot\n",
      "santo antonio do ica\n",
      "pingtung\n",
      "concepcion del oro\n",
      "la asuncion\n",
      "johnson city\n",
      "shevchenko\n",
      "beringovskiy\n",
      "City not found. Skipping...\n",
      "shihezi\n",
      "norsup\n",
      "churapcha\n",
      "voyinka\n",
      "tete\n",
      "avanigadda\n",
      "vieques\n",
      "bukoba\n",
      "tilichiki\n",
      "naukot\n",
      "san andres\n",
      "tomatlan\n",
      "paragominas\n",
      "cam ranh\n",
      "miandrivazo\n",
      "brae\n",
      "esmeraldas\n",
      "mehran\n",
      "saldanha\n",
      "iquitos\n",
      "isangel\n",
      "olinda\n",
      "cayenne\n",
      "khandyga\n",
      "novyy urengoy\n",
      "colombo\n",
      "patterson\n",
      "romita\n",
      "City not found. Skipping...\n",
      "seydi\n",
      "college\n",
      "berlevag\n",
      "krasnyy chikoy\n",
      "les cayes\n",
      "tekeli\n",
      "pirai do sul\n",
      "sfantu gheorghe\n",
      "coremas\n",
      "rio piracicaba\n",
      "heihe\n",
      "narrabri\n",
      "shangrao\n",
      "makat\n",
      "marienburg\n",
      "biak\n",
      "palembang\n",
      "sao felix do xingu\n",
      "lazaro cardenas\n",
      "mineral wells\n",
      "vila franca do campo\n",
      "xuddur\n",
      "adrar\n",
      "waingapu\n",
      "san patricio\n",
      "City not found. Skipping...\n",
      "aden\n",
      "tahoua\n",
      "gladstone\n",
      "montepuez\n",
      "athabasca\n",
      "bojnurd\n",
      "City not found. Skipping...\n",
      "saint anthony\n",
      "santo antonio do sudoeste\n",
      "City not found. Skipping...\n",
      "lavrentiya\n",
      "aloleng\n",
      "emerald\n",
      "rodrigues alves\n",
      "jalu\n",
      "guarapari\n",
      "fureidis\n",
      "hartlepool\n",
      "northam\n",
      "hanzhong\n",
      "xining\n",
      "viedma\n",
      "camp verde\n",
      "killybegs\n",
      "pendleton\n",
      "muskogee\n",
      "hami\n",
      "danville\n",
      "kavaratti\n",
      "libreville\n",
      "zimapan\n",
      "najran\n",
      "khani\n",
      "batken\n",
      "santiago del estero\n",
      "sana\n",
      "City not found. Skipping...\n",
      "talakan\n",
      "marrakesh\n",
      "stornoway\n",
      "City not found. Skipping...\n",
      "scalea\n",
      "ginda\n",
      "nabire\n",
      "City not found. Skipping...\n",
      "City not found. Skipping...\n",
      "tallahassee\n",
      "leningradskiy\n",
      "savinskiy\n",
      "ingham\n",
      "havelock\n",
      "bud\n",
      "sabla\n",
      "City not found. Skipping...\n",
      "aklavik\n",
      "mogocha\n",
      "ondjiva\n",
      "boueni\n",
      "koshurnikovo\n",
      "santa cruz\n",
      "miyako\n",
      "burnie\n",
      "morrisburg\n",
      "fairbanks\n",
      "kutum\n",
      "pitelino\n",
      "marabba\n",
      "vuktyl\n",
      "fortuna\n",
      "yambio\n",
      "City not found. Skipping...\n",
      "lovington\n",
      "mana\n",
      "constitucion\n",
      "elko\n",
      "male\n",
      "City not found. Skipping...\n",
      "dargaville\n",
      "dubovka\n",
      "son tay\n",
      "verkhnevilyuysk\n",
      "valle hermoso\n",
      "shuiji\n",
      "dhone\n",
      "tyrma\n",
      "losinyy\n",
      "camacha\n",
      "City not found. Skipping...\n",
      "miraflores\n",
      "myaundzha\n",
      "trapani\n",
      "boralday\n",
      "pacifica\n",
      "sungaipenuh\n",
      "vanersborg\n",
      "the valley\n",
      "half moon bay\n",
      "talnakh\n",
      "comodoro rivadavia\n",
      "jurm\n",
      "zarubino\n",
      "paihia\n",
      "kulhudhuffushi\n",
      "chapais\n",
      "san cristobal\n"
     ]
    }
   ],
   "source": [
    "# Loop through city list and pull weather data for each city \n",
    "# Do api call to get weather data\n",
    "# create empty columns to store info in a dataframe \n",
    "# print process recording of what record and set and city \n",
    "# Create empty lists for data\n",
    "city=[]\n",
    "lat=[]\n",
    "lon=[]\n",
    "max_temp=[]\n",
    "humidity=[]\n",
    "cloudiness=[]\n",
    "wind_speed=[]\n",
    "country=[]\n",
    "date=[]\n",
    "\n",
    "\n",
    "for city_name in cities:      # http://api.openweathermap.org/data/2.5/weather?q=London,uk&APPID=c9fb60baea4a0d36add4201be947f8a4\n",
    "    try: \n",
    "        response = requests.get(f\"http://api.openweathermap.org/data/2.5/weather?q={city_name}&appid={weather_api_key}&units=Imperial\").json()\n",
    "        city.append(response['name'])\n",
    "        lat.append(response['coord']['lat'])\n",
    "        lon.append(response['coord']['lon'])\n",
    "        max_temp.append(response['main']['temp_max'])\n",
    "        humidity.append(response['main']['humidity'])\n",
    "        cloudiness.append(response['clouds']['all'])\n",
    "        wind_speed.append(response['wind']['speed'])\n",
    "        country.append(response['sys']['country'])\n",
    "        date.append(response['dt'])\n",
    "        print(city_name)\n",
    "    except: \n",
    "        print(\"City not found. Skipping...\")\n",
    "        pass \n",
    "    \n",
    "        # pprint(response)"
   ]
  },
  {
   "cell_type": "code",
   "execution_count": 110,
   "metadata": {},
   "outputs": [
    {
     "data": {
      "text/plain": [
       "573"
      ]
     },
     "execution_count": 110,
     "metadata": {},
     "output_type": "execute_result"
    }
   ],
   "source": [
    "# Check to see that length of columns is even\n",
    "len(city)"
   ]
  },
  {
   "cell_type": "code",
   "execution_count": 111,
   "metadata": {},
   "outputs": [
    {
     "data": {
      "text/plain": [
       "573"
      ]
     },
     "execution_count": 111,
     "metadata": {},
     "output_type": "execute_result"
    }
   ],
   "source": [
    "# Check to see that length of columns is even\n",
    "len(lat)"
   ]
  },
  {
   "cell_type": "code",
   "execution_count": 112,
   "metadata": {},
   "outputs": [
    {
     "data": {
      "text/plain": [
       "573"
      ]
     },
     "execution_count": 112,
     "metadata": {},
     "output_type": "execute_result"
    }
   ],
   "source": [
    "# Check to see that length of columns is even\n",
    "len(lon)"
   ]
  },
  {
   "cell_type": "markdown",
   "metadata": {},
   "source": [
    "### Convert Raw Data to DataFrame\n",
    "* Export the city data into a .csv.\n",
    "* Display the DataFrame"
   ]
  },
  {
   "cell_type": "code",
   "execution_count": 113,
   "metadata": {},
   "outputs": [
    {
     "data": {
      "text/html": [
       "<div>\n",
       "<style scoped>\n",
       "    .dataframe tbody tr th:only-of-type {\n",
       "        vertical-align: middle;\n",
       "    }\n",
       "\n",
       "    .dataframe tbody tr th {\n",
       "        vertical-align: top;\n",
       "    }\n",
       "\n",
       "    .dataframe thead th {\n",
       "        text-align: right;\n",
       "    }\n",
       "</style>\n",
       "<table border=\"1\" class=\"dataframe\">\n",
       "  <thead>\n",
       "    <tr style=\"text-align: right;\">\n",
       "      <th></th>\n",
       "      <th>City</th>\n",
       "      <th>Lat</th>\n",
       "      <th>Lng</th>\n",
       "      <th>Max Temp</th>\n",
       "      <th>Humidity</th>\n",
       "      <th>Cloudiness</th>\n",
       "      <th>Wind Speed</th>\n",
       "      <th>Country</th>\n",
       "      <th>Date</th>\n",
       "    </tr>\n",
       "  </thead>\n",
       "  <tbody>\n",
       "    <tr>\n",
       "      <th>0</th>\n",
       "      <td>Dikson</td>\n",
       "      <td>73.5069</td>\n",
       "      <td>80.5464</td>\n",
       "      <td>-34.28</td>\n",
       "      <td>80</td>\n",
       "      <td>0</td>\n",
       "      <td>6.85</td>\n",
       "      <td>RU</td>\n",
       "      <td>1612053325</td>\n",
       "    </tr>\n",
       "    <tr>\n",
       "      <th>1</th>\n",
       "      <td>Lagoa</td>\n",
       "      <td>39.0500</td>\n",
       "      <td>-27.9833</td>\n",
       "      <td>61.90</td>\n",
       "      <td>94</td>\n",
       "      <td>100</td>\n",
       "      <td>25.64</td>\n",
       "      <td>PT</td>\n",
       "      <td>1612053391</td>\n",
       "    </tr>\n",
       "    <tr>\n",
       "      <th>2</th>\n",
       "      <td>Rikitea</td>\n",
       "      <td>-23.1203</td>\n",
       "      <td>-134.9692</td>\n",
       "      <td>79.50</td>\n",
       "      <td>70</td>\n",
       "      <td>0</td>\n",
       "      <td>11.34</td>\n",
       "      <td>PF</td>\n",
       "      <td>1612053307</td>\n",
       "    </tr>\n",
       "    <tr>\n",
       "      <th>3</th>\n",
       "      <td>Ushuaia</td>\n",
       "      <td>-54.8000</td>\n",
       "      <td>-68.3000</td>\n",
       "      <td>51.80</td>\n",
       "      <td>62</td>\n",
       "      <td>20</td>\n",
       "      <td>21.85</td>\n",
       "      <td>AR</td>\n",
       "      <td>1612053316</td>\n",
       "    </tr>\n",
       "    <tr>\n",
       "      <th>4</th>\n",
       "      <td>Punta Arenas</td>\n",
       "      <td>-53.1500</td>\n",
       "      <td>-70.9167</td>\n",
       "      <td>51.80</td>\n",
       "      <td>62</td>\n",
       "      <td>0</td>\n",
       "      <td>26.46</td>\n",
       "      <td>CL</td>\n",
       "      <td>1612053538</td>\n",
       "    </tr>\n",
       "    <tr>\n",
       "      <th>...</th>\n",
       "      <td>...</td>\n",
       "      <td>...</td>\n",
       "      <td>...</td>\n",
       "      <td>...</td>\n",
       "      <td>...</td>\n",
       "      <td>...</td>\n",
       "      <td>...</td>\n",
       "      <td>...</td>\n",
       "      <td>...</td>\n",
       "    </tr>\n",
       "    <tr>\n",
       "      <th>568</th>\n",
       "      <td>Zarubino</td>\n",
       "      <td>42.6300</td>\n",
       "      <td>131.0922</td>\n",
       "      <td>8.17</td>\n",
       "      <td>84</td>\n",
       "      <td>76</td>\n",
       "      <td>4.63</td>\n",
       "      <td>RU</td>\n",
       "      <td>1612053643</td>\n",
       "    </tr>\n",
       "    <tr>\n",
       "      <th>569</th>\n",
       "      <td>Paihia</td>\n",
       "      <td>-35.2822</td>\n",
       "      <td>174.0912</td>\n",
       "      <td>73.00</td>\n",
       "      <td>56</td>\n",
       "      <td>0</td>\n",
       "      <td>11.01</td>\n",
       "      <td>NZ</td>\n",
       "      <td>1612053352</td>\n",
       "    </tr>\n",
       "    <tr>\n",
       "      <th>570</th>\n",
       "      <td>Kulhudhuffushi</td>\n",
       "      <td>6.6221</td>\n",
       "      <td>73.0700</td>\n",
       "      <td>81.32</td>\n",
       "      <td>66</td>\n",
       "      <td>1</td>\n",
       "      <td>5.55</td>\n",
       "      <td>MV</td>\n",
       "      <td>1612053644</td>\n",
       "    </tr>\n",
       "    <tr>\n",
       "      <th>571</th>\n",
       "      <td>Chapais</td>\n",
       "      <td>49.7834</td>\n",
       "      <td>-74.8492</td>\n",
       "      <td>-4.00</td>\n",
       "      <td>77</td>\n",
       "      <td>90</td>\n",
       "      <td>6.91</td>\n",
       "      <td>CA</td>\n",
       "      <td>1612053382</td>\n",
       "    </tr>\n",
       "    <tr>\n",
       "      <th>572</th>\n",
       "      <td>San Cristobal</td>\n",
       "      <td>7.7669</td>\n",
       "      <td>-72.2250</td>\n",
       "      <td>65.71</td>\n",
       "      <td>72</td>\n",
       "      <td>84</td>\n",
       "      <td>1.39</td>\n",
       "      <td>VE</td>\n",
       "      <td>1612053403</td>\n",
       "    </tr>\n",
       "  </tbody>\n",
       "</table>\n",
       "<p>573 rows × 9 columns</p>\n",
       "</div>"
      ],
      "text/plain": [
       "               City      Lat       Lng  Max Temp  Humidity  Cloudiness  \\\n",
       "0            Dikson  73.5069   80.5464    -34.28        80           0   \n",
       "1             Lagoa  39.0500  -27.9833     61.90        94         100   \n",
       "2           Rikitea -23.1203 -134.9692     79.50        70           0   \n",
       "3           Ushuaia -54.8000  -68.3000     51.80        62          20   \n",
       "4      Punta Arenas -53.1500  -70.9167     51.80        62           0   \n",
       "..              ...      ...       ...       ...       ...         ...   \n",
       "568        Zarubino  42.6300  131.0922      8.17        84          76   \n",
       "569          Paihia -35.2822  174.0912     73.00        56           0   \n",
       "570  Kulhudhuffushi   6.6221   73.0700     81.32        66           1   \n",
       "571         Chapais  49.7834  -74.8492     -4.00        77          90   \n",
       "572   San Cristobal   7.7669  -72.2250     65.71        72          84   \n",
       "\n",
       "     Wind Speed Country        Date  \n",
       "0          6.85      RU  1612053325  \n",
       "1         25.64      PT  1612053391  \n",
       "2         11.34      PF  1612053307  \n",
       "3         21.85      AR  1612053316  \n",
       "4         26.46      CL  1612053538  \n",
       "..          ...     ...         ...  \n",
       "568        4.63      RU  1612053643  \n",
       "569       11.01      NZ  1612053352  \n",
       "570        5.55      MV  1612053644  \n",
       "571        6.91      CA  1612053382  \n",
       "572        1.39      VE  1612053403  \n",
       "\n",
       "[573 rows x 9 columns]"
      ]
     },
     "execution_count": 113,
     "metadata": {},
     "output_type": "execute_result"
    }
   ],
   "source": [
    "# Create dataframe columns using info from API call \n",
    "city_df= pd.DataFrame ({\n",
    "    \"City\": city,\n",
    "    \"Lat\": lat,\n",
    "    \"Lng\": lon,\n",
    "    \"Max Temp\": max_temp,\n",
    "    \"Humidity\": humidity,\n",
    "    \"Cloudiness\": cloudiness,\n",
    "    \"Wind Speed\": wind_speed,\n",
    "    \"Country\": country,\n",
    "    \"Date\": date\n",
    "})\n",
    "city_df"
   ]
  },
  {
   "cell_type": "code",
   "execution_count": 116,
   "metadata": {},
   "outputs": [],
   "source": [
    "# Export dataframe to CSV file\n",
    "city_df.to_csv('WeatherPY3.csv', index = None) "
   ]
  },
  {
   "cell_type": "markdown",
   "metadata": {},
   "source": [
    "## Inspect the data and remove the cities where the humidity > 100%.\n",
    "----\n",
    "Skip this step if there are no cities that have humidity > 100%. "
   ]
  },
  {
   "cell_type": "code",
   "execution_count": 114,
   "metadata": {},
   "outputs": [
    {
     "data": {
      "text/html": [
       "<div>\n",
       "<style scoped>\n",
       "    .dataframe tbody tr th:only-of-type {\n",
       "        vertical-align: middle;\n",
       "    }\n",
       "\n",
       "    .dataframe tbody tr th {\n",
       "        vertical-align: top;\n",
       "    }\n",
       "\n",
       "    .dataframe thead th {\n",
       "        text-align: right;\n",
       "    }\n",
       "</style>\n",
       "<table border=\"1\" class=\"dataframe\">\n",
       "  <thead>\n",
       "    <tr style=\"text-align: right;\">\n",
       "      <th></th>\n",
       "      <th>City</th>\n",
       "      <th>Lat</th>\n",
       "      <th>Lng</th>\n",
       "      <th>Max Temp</th>\n",
       "      <th>Humidity</th>\n",
       "      <th>Cloudiness</th>\n",
       "      <th>Wind Speed</th>\n",
       "      <th>Country</th>\n",
       "      <th>Date</th>\n",
       "    </tr>\n",
       "  </thead>\n",
       "  <tbody>\n",
       "  </tbody>\n",
       "</table>\n",
       "</div>"
      ],
      "text/plain": [
       "Empty DataFrame\n",
       "Columns: [City, Lat, Lng, Max Temp, Humidity, Cloudiness, Wind Speed, Country, Date]\n",
       "Index: []"
      ]
     },
     "execution_count": 114,
     "metadata": {},
     "output_type": "execute_result"
    }
   ],
   "source": [
    "humidity_drop=city_df[(city_df[\"Humidity\"]>100)]\n",
    "humidity_drop"
   ]
  },
  {
   "cell_type": "code",
   "execution_count": 44,
   "metadata": {},
   "outputs": [],
   "source": [
    "#  Get the indices of cities that have humidity over 100%.\n",
    "# N/A "
   ]
  },
  {
   "cell_type": "code",
   "execution_count": 115,
   "metadata": {},
   "outputs": [],
   "source": [
    "# Make a new DataFrame equal to the city data to drop all humidity outliers by index.\n",
    "# Passing \"inplace=False\" will make a copy of the city_data DataFrame, which we call \"clean_city_data\".\n",
    "# N/A"
   ]
  },
  {
   "cell_type": "markdown",
   "metadata": {},
   "source": [
    "## Plotting the Data\n",
    "* Use proper labeling of the plots using plot titles (including date of analysis) and axes labels.\n",
    "* Save the plotted figures as .pngs."
   ]
  },
  {
   "cell_type": "markdown",
   "metadata": {},
   "source": [
    "## Latitude vs. Temperature Plot"
   ]
  },
  {
   "cell_type": "code",
   "execution_count": 117,
   "metadata": {},
   "outputs": [
    {
     "data": {
      "text/plain": [
       "Text(0.5, 1.0, 'City Latitude vs. Max Temperature (01/28/21)')"
      ]
     },
     "execution_count": 117,
     "metadata": {},
     "output_type": "execute_result"
    },
    {
     "data": {
      "image/png": "[encoded data removed]",
      "text/plain": [
       "<Figure size 432x288 with 1 Axes>"
      ]
     },
     "metadata": {
      "needs_background": "light"
     },
     "output_type": "display_data"
    }
   ],
   "source": [
    "plt.scatter(lat, max_temp, edgecolors= \"black\")\n",
    "plt.xlabel('Latitude')\n",
    "plt.ylabel('Max Temperature (F)')\n",
    "plt.title('City Latitude vs. Max Temperature (01/28/21)')\n",
    "\n",
    "\n",
    "#city_df.plt(kind='scatter', x='Lat', y='Max Temp')"
   ]
  },
  {
   "cell_type": "markdown",
   "metadata": {},
   "source": [
    "## Latitude vs. Humidity Plot"
   ]
  },
  {
   "cell_type": "code",
   "execution_count": 121,
   "metadata": {},
   "outputs": [
    {
     "data": {
      "text/plain": [
       "Text(0.5, 1.0, 'City Latitude vs. Humidity (01/28/21)')"
      ]
     },
     "execution_count": 121,
     "metadata": {},
     "output_type": "execute_result"
    },
    {
     "data": {
      "image/png": "[encoded data removed]",
      "text/plain": [
       "<Figure size 432x288 with 1 Axes>"
      ]
     },
     "metadata": {
      "needs_background": "light"
     },
     "output_type": "display_data"
    }
   ],
   "source": [
    "plt.scatter(lat, humidity, edgecolors= \"black\")\n",
    "plt.xlabel('Latitude')\n",
    "plt.ylabel('Humidity (%)')\n",
    "plt.title('City Latitude vs. Humidity (01/28/21)')"
   ]
  },
  {
   "cell_type": "markdown",
   "metadata": {},
   "source": [
    "## Latitude vs. Cloudiness Plot"
   ]
  },
  {
   "cell_type": "code",
   "execution_count": 122,
   "metadata": {},
   "outputs": [
    {
     "data": {
      "text/plain": [
       "Text(0.5, 1.0, 'City Latitude vs. Cloudiness (01/28/21)')"
      ]
     },
     "execution_count": 122,
     "metadata": {},
     "output_type": "execute_result"
    },
    {
     "data": {
      "image/png": "[encoded data removed]",
      "text/plain": [
       "<Figure size 432x288 with 1 Axes>"
      ]
     },
     "metadata": {
      "needs_background": "light"
     },
     "output_type": "display_data"
    }
   ],
   "source": [
    "plt.scatter(lat, cloudiness, edgecolors= \"black\")\n",
    "plt.xlabel('Latitude')\n",
    "plt.ylabel('Cloudiness')\n",
    "plt.title('City Latitude vs. Cloudiness (01/28/21)')"
   ]
  },
  {
   "cell_type": "markdown",
   "metadata": {},
   "source": [
    "## Latitude vs. Wind Speed Plot"
   ]
  },
  {
   "cell_type": "code",
   "execution_count": 123,
   "metadata": {},
   "outputs": [
    {
     "data": {
      "text/plain": [
       "Text(0.5, 1.0, 'City Latitude vs. Wind Speed (01/28/21)')"
      ]
     },
     "execution_count": 123,
     "metadata": {},
     "output_type": "execute_result"
    },
    {
     "data": {
      "image/png": "[encoded data removed]",
      "text/plain": [
       "<Figure size 432x288 with 1 Axes>"
      ]
     },
     "metadata": {
      "needs_background": "light"
     },
     "output_type": "display_data"
    }
   ],
   "source": [
    "plt.scatter(lat, wind_speed, edgecolors= \"black\")\n",
    "plt.xlabel('Latitude')\n",
    "plt.ylabel('Wind Speed')\n",
    "plt.title('City Latitude vs. Wind Speed (01/28/21)')\n"
   ]
  },
  {
   "cell_type": "markdown",
   "metadata": {},
   "source": [
    "## Linear Regression"
   ]
  },
  {
   "cell_type": "code",
   "execution_count": 124,
   "metadata": {},
   "outputs": [
    {
     "data": {
      "text/html": [
       "<div>\n",
       "<style scoped>\n",
       "    .dataframe tbody tr th:only-of-type {\n",
       "        vertical-align: middle;\n",
       "    }\n",
       "\n",
       "    .dataframe tbody tr th {\n",
       "        vertical-align: top;\n",
       "    }\n",
       "\n",
       "    .dataframe thead th {\n",
       "        text-align: right;\n",
       "    }\n",
       "</style>\n",
       "<table border=\"1\" class=\"dataframe\">\n",
       "  <thead>\n",
       "    <tr style=\"text-align: right;\">\n",
       "      <th></th>\n",
       "      <th>City</th>\n",
       "      <th>Lat</th>\n",
       "      <th>Lng</th>\n",
       "      <th>Max Temp</th>\n",
       "      <th>Humidity</th>\n",
       "      <th>Cloudiness</th>\n",
       "      <th>Wind Speed</th>\n",
       "      <th>Country</th>\n",
       "      <th>Date</th>\n",
       "    </tr>\n",
       "  </thead>\n",
       "  <tbody>\n",
       "    <tr>\n",
       "      <th>0</th>\n",
       "      <td>Dikson</td>\n",
       "      <td>73.5069</td>\n",
       "      <td>80.5464</td>\n",
       "      <td>-34.28</td>\n",
       "      <td>80</td>\n",
       "      <td>0</td>\n",
       "      <td>6.85</td>\n",
       "      <td>RU</td>\n",
       "      <td>1612053325</td>\n",
       "    </tr>\n",
       "    <tr>\n",
       "      <th>1</th>\n",
       "      <td>Lagoa</td>\n",
       "      <td>39.0500</td>\n",
       "      <td>-27.9833</td>\n",
       "      <td>61.90</td>\n",
       "      <td>94</td>\n",
       "      <td>100</td>\n",
       "      <td>25.64</td>\n",
       "      <td>PT</td>\n",
       "      <td>1612053391</td>\n",
       "    </tr>\n",
       "    <tr>\n",
       "      <th>5</th>\n",
       "      <td>Hilo</td>\n",
       "      <td>19.7297</td>\n",
       "      <td>-155.0900</td>\n",
       "      <td>80.60</td>\n",
       "      <td>54</td>\n",
       "      <td>75</td>\n",
       "      <td>9.22</td>\n",
       "      <td>US</td>\n",
       "      <td>1612053539</td>\n",
       "    </tr>\n",
       "    <tr>\n",
       "      <th>6</th>\n",
       "      <td>Longyearbyen</td>\n",
       "      <td>78.2186</td>\n",
       "      <td>15.6401</td>\n",
       "      <td>-4.00</td>\n",
       "      <td>65</td>\n",
       "      <td>20</td>\n",
       "      <td>19.57</td>\n",
       "      <td>SJ</td>\n",
       "      <td>1612053340</td>\n",
       "    </tr>\n",
       "    <tr>\n",
       "      <th>12</th>\n",
       "      <td>Shimoda</td>\n",
       "      <td>34.6667</td>\n",
       "      <td>138.9500</td>\n",
       "      <td>50.00</td>\n",
       "      <td>62</td>\n",
       "      <td>20</td>\n",
       "      <td>5.75</td>\n",
       "      <td>JP</td>\n",
       "      <td>1612053453</td>\n",
       "    </tr>\n",
       "    <tr>\n",
       "      <th>...</th>\n",
       "      <td>...</td>\n",
       "      <td>...</td>\n",
       "      <td>...</td>\n",
       "      <td>...</td>\n",
       "      <td>...</td>\n",
       "      <td>...</td>\n",
       "      <td>...</td>\n",
       "      <td>...</td>\n",
       "      <td>...</td>\n",
       "    </tr>\n",
       "    <tr>\n",
       "      <th>567</th>\n",
       "      <td>Jurm</td>\n",
       "      <td>36.8648</td>\n",
       "      <td>70.8342</td>\n",
       "      <td>38.16</td>\n",
       "      <td>61</td>\n",
       "      <td>100</td>\n",
       "      <td>6.04</td>\n",
       "      <td>AF</td>\n",
       "      <td>1612053643</td>\n",
       "    </tr>\n",
       "    <tr>\n",
       "      <th>568</th>\n",
       "      <td>Zarubino</td>\n",
       "      <td>42.6300</td>\n",
       "      <td>131.0922</td>\n",
       "      <td>8.17</td>\n",
       "      <td>84</td>\n",
       "      <td>76</td>\n",
       "      <td>4.63</td>\n",
       "      <td>RU</td>\n",
       "      <td>1612053643</td>\n",
       "    </tr>\n",
       "    <tr>\n",
       "      <th>570</th>\n",
       "      <td>Kulhudhuffushi</td>\n",
       "      <td>6.6221</td>\n",
       "      <td>73.0700</td>\n",
       "      <td>81.32</td>\n",
       "      <td>66</td>\n",
       "      <td>1</td>\n",
       "      <td>5.55</td>\n",
       "      <td>MV</td>\n",
       "      <td>1612053644</td>\n",
       "    </tr>\n",
       "    <tr>\n",
       "      <th>571</th>\n",
       "      <td>Chapais</td>\n",
       "      <td>49.7834</td>\n",
       "      <td>-74.8492</td>\n",
       "      <td>-4.00</td>\n",
       "      <td>77</td>\n",
       "      <td>90</td>\n",
       "      <td>6.91</td>\n",
       "      <td>CA</td>\n",
       "      <td>1612053382</td>\n",
       "    </tr>\n",
       "    <tr>\n",
       "      <th>572</th>\n",
       "      <td>San Cristobal</td>\n",
       "      <td>7.7669</td>\n",
       "      <td>-72.2250</td>\n",
       "      <td>65.71</td>\n",
       "      <td>72</td>\n",
       "      <td>84</td>\n",
       "      <td>1.39</td>\n",
       "      <td>VE</td>\n",
       "      <td>1612053403</td>\n",
       "    </tr>\n",
       "  </tbody>\n",
       "</table>\n",
       "<p>400 rows × 9 columns</p>\n",
       "</div>"
      ],
      "text/plain": [
       "               City      Lat       Lng  Max Temp  Humidity  Cloudiness  \\\n",
       "0            Dikson  73.5069   80.5464    -34.28        80           0   \n",
       "1             Lagoa  39.0500  -27.9833     61.90        94         100   \n",
       "5              Hilo  19.7297 -155.0900     80.60        54          75   \n",
       "6      Longyearbyen  78.2186   15.6401     -4.00        65          20   \n",
       "12          Shimoda  34.6667  138.9500     50.00        62          20   \n",
       "..              ...      ...       ...       ...       ...         ...   \n",
       "567            Jurm  36.8648   70.8342     38.16        61         100   \n",
       "568        Zarubino  42.6300  131.0922      8.17        84          76   \n",
       "570  Kulhudhuffushi   6.6221   73.0700     81.32        66           1   \n",
       "571         Chapais  49.7834  -74.8492     -4.00        77          90   \n",
       "572   San Cristobal   7.7669  -72.2250     65.71        72          84   \n",
       "\n",
       "     Wind Speed Country        Date  \n",
       "0          6.85      RU  1612053325  \n",
       "1         25.64      PT  1612053391  \n",
       "5          9.22      US  1612053539  \n",
       "6         19.57      SJ  1612053340  \n",
       "12         5.75      JP  1612053453  \n",
       "..          ...     ...         ...  \n",
       "567        6.04      AF  1612053643  \n",
       "568        4.63      RU  1612053643  \n",
       "570        5.55      MV  1612053644  \n",
       "571        6.91      CA  1612053382  \n",
       "572        1.39      VE  1612053403  \n",
       "\n",
       "[400 rows x 9 columns]"
      ]
     },
     "execution_count": 124,
     "metadata": {},
     "output_type": "execute_result"
    }
   ],
   "source": [
    "# Need to separate df into northern and southern hemisphere\n",
    "# Cities found at latitude greater than 0 are in the Northern hemisphere\n",
    "northern_hemisphere=city_df[city_df[\"Lat\"]>=0]\n",
    "northern_hemisphere"
   ]
  },
  {
   "cell_type": "code",
   "execution_count": 125,
   "metadata": {},
   "outputs": [
    {
     "data": {
      "text/html": [
       "<div>\n",
       "<style scoped>\n",
       "    .dataframe tbody tr th:only-of-type {\n",
       "        vertical-align: middle;\n",
       "    }\n",
       "\n",
       "    .dataframe tbody tr th {\n",
       "        vertical-align: top;\n",
       "    }\n",
       "\n",
       "    .dataframe thead th {\n",
       "        text-align: right;\n",
       "    }\n",
       "</style>\n",
       "<table border=\"1\" class=\"dataframe\">\n",
       "  <thead>\n",
       "    <tr style=\"text-align: right;\">\n",
       "      <th></th>\n",
       "      <th>City</th>\n",
       "      <th>Lat</th>\n",
       "      <th>Lng</th>\n",
       "      <th>Max Temp</th>\n",
       "      <th>Humidity</th>\n",
       "      <th>Cloudiness</th>\n",
       "      <th>Wind Speed</th>\n",
       "      <th>Country</th>\n",
       "      <th>Date</th>\n",
       "    </tr>\n",
       "  </thead>\n",
       "  <tbody>\n",
       "    <tr>\n",
       "      <th>2</th>\n",
       "      <td>Rikitea</td>\n",
       "      <td>-23.1203</td>\n",
       "      <td>-134.9692</td>\n",
       "      <td>79.50</td>\n",
       "      <td>70</td>\n",
       "      <td>0</td>\n",
       "      <td>11.34</td>\n",
       "      <td>PF</td>\n",
       "      <td>1612053307</td>\n",
       "    </tr>\n",
       "    <tr>\n",
       "      <th>3</th>\n",
       "      <td>Ushuaia</td>\n",
       "      <td>-54.8000</td>\n",
       "      <td>-68.3000</td>\n",
       "      <td>51.80</td>\n",
       "      <td>62</td>\n",
       "      <td>20</td>\n",
       "      <td>21.85</td>\n",
       "      <td>AR</td>\n",
       "      <td>1612053316</td>\n",
       "    </tr>\n",
       "    <tr>\n",
       "      <th>4</th>\n",
       "      <td>Punta Arenas</td>\n",
       "      <td>-53.1500</td>\n",
       "      <td>-70.9167</td>\n",
       "      <td>51.80</td>\n",
       "      <td>62</td>\n",
       "      <td>0</td>\n",
       "      <td>26.46</td>\n",
       "      <td>CL</td>\n",
       "      <td>1612053538</td>\n",
       "    </tr>\n",
       "    <tr>\n",
       "      <th>7</th>\n",
       "      <td>Dunda</td>\n",
       "      <td>-8.1167</td>\n",
       "      <td>34.2500</td>\n",
       "      <td>63.03</td>\n",
       "      <td>94</td>\n",
       "      <td>100</td>\n",
       "      <td>1.95</td>\n",
       "      <td>TZ</td>\n",
       "      <td>1612053539</td>\n",
       "    </tr>\n",
       "    <tr>\n",
       "      <th>8</th>\n",
       "      <td>Upington</td>\n",
       "      <td>-28.4478</td>\n",
       "      <td>21.2561</td>\n",
       "      <td>68.00</td>\n",
       "      <td>26</td>\n",
       "      <td>0</td>\n",
       "      <td>4.61</td>\n",
       "      <td>ZA</td>\n",
       "      <td>1612053539</td>\n",
       "    </tr>\n",
       "    <tr>\n",
       "      <th>...</th>\n",
       "      <td>...</td>\n",
       "      <td>...</td>\n",
       "      <td>...</td>\n",
       "      <td>...</td>\n",
       "      <td>...</td>\n",
       "      <td>...</td>\n",
       "      <td>...</td>\n",
       "      <td>...</td>\n",
       "      <td>...</td>\n",
       "    </tr>\n",
       "    <tr>\n",
       "      <th>543</th>\n",
       "      <td>Constitución</td>\n",
       "      <td>-35.3333</td>\n",
       "      <td>-72.4167</td>\n",
       "      <td>60.30</td>\n",
       "      <td>93</td>\n",
       "      <td>49</td>\n",
       "      <td>7.85</td>\n",
       "      <td>CL</td>\n",
       "      <td>1612053346</td>\n",
       "    </tr>\n",
       "    <tr>\n",
       "      <th>546</th>\n",
       "      <td>Dargaville</td>\n",
       "      <td>-35.9333</td>\n",
       "      <td>173.8833</td>\n",
       "      <td>73.47</td>\n",
       "      <td>43</td>\n",
       "      <td>0</td>\n",
       "      <td>7.72</td>\n",
       "      <td>NZ</td>\n",
       "      <td>1612053639</td>\n",
       "    </tr>\n",
       "    <tr>\n",
       "      <th>561</th>\n",
       "      <td>Sungai Penuh</td>\n",
       "      <td>-2.0833</td>\n",
       "      <td>101.3833</td>\n",
       "      <td>66.20</td>\n",
       "      <td>90</td>\n",
       "      <td>100</td>\n",
       "      <td>1.74</td>\n",
       "      <td>ID</td>\n",
       "      <td>1612053642</td>\n",
       "    </tr>\n",
       "    <tr>\n",
       "      <th>566</th>\n",
       "      <td>Comodoro Rivadavia</td>\n",
       "      <td>-45.8667</td>\n",
       "      <td>-67.5000</td>\n",
       "      <td>60.80</td>\n",
       "      <td>51</td>\n",
       "      <td>0</td>\n",
       "      <td>8.05</td>\n",
       "      <td>AR</td>\n",
       "      <td>1612053596</td>\n",
       "    </tr>\n",
       "    <tr>\n",
       "      <th>569</th>\n",
       "      <td>Paihia</td>\n",
       "      <td>-35.2822</td>\n",
       "      <td>174.0912</td>\n",
       "      <td>73.00</td>\n",
       "      <td>56</td>\n",
       "      <td>0</td>\n",
       "      <td>11.01</td>\n",
       "      <td>NZ</td>\n",
       "      <td>1612053352</td>\n",
       "    </tr>\n",
       "  </tbody>\n",
       "</table>\n",
       "<p>173 rows × 9 columns</p>\n",
       "</div>"
      ],
      "text/plain": [
       "                   City      Lat       Lng  Max Temp  Humidity  Cloudiness  \\\n",
       "2               Rikitea -23.1203 -134.9692     79.50        70           0   \n",
       "3               Ushuaia -54.8000  -68.3000     51.80        62          20   \n",
       "4          Punta Arenas -53.1500  -70.9167     51.80        62           0   \n",
       "7                 Dunda  -8.1167   34.2500     63.03        94         100   \n",
       "8              Upington -28.4478   21.2561     68.00        26           0   \n",
       "..                  ...      ...       ...       ...       ...         ...   \n",
       "543        Constitución -35.3333  -72.4167     60.30        93          49   \n",
       "546          Dargaville -35.9333  173.8833     73.47        43           0   \n",
       "561        Sungai Penuh  -2.0833  101.3833     66.20        90         100   \n",
       "566  Comodoro Rivadavia -45.8667  -67.5000     60.80        51           0   \n",
       "569              Paihia -35.2822  174.0912     73.00        56           0   \n",
       "\n",
       "     Wind Speed Country        Date  \n",
       "2         11.34      PF  1612053307  \n",
       "3         21.85      AR  1612053316  \n",
       "4         26.46      CL  1612053538  \n",
       "7          1.95      TZ  1612053539  \n",
       "8          4.61      ZA  1612053539  \n",
       "..          ...     ...         ...  \n",
       "543        7.85      CL  1612053346  \n",
       "546        7.72      NZ  1612053639  \n",
       "561        1.74      ID  1612053642  \n",
       "566        8.05      AR  1612053596  \n",
       "569       11.01      NZ  1612053352  \n",
       "\n",
       "[173 rows x 9 columns]"
      ]
     },
     "execution_count": 125,
     "metadata": {},
     "output_type": "execute_result"
    }
   ],
   "source": [
    "# Cities found at latitude greater than 0 are in the Northern hemisphere\n",
    "southern_hemisphere=city_df[city_df[\"Lat\"]<=0]\n",
    "southern_hemisphere"
   ]
  },
  {
   "cell_type": "markdown",
   "metadata": {},
   "source": [
    "####  Northern Hemisphere - Max Temp vs. Latitude Linear Regression"
   ]
  },
  {
   "cell_type": "code",
   "execution_count": 126,
   "metadata": {},
   "outputs": [
    {
     "name": "stdout",
     "output_type": "stream",
     "text": [
      "The r-squared is: 0.7351113753678886\n"
     ]
    },
    {
     "data": {
      "text/plain": [
       "[<matplotlib.lines.Line2D at 0x23f6d2ec130>]"
      ]
     },
     "execution_count": 126,
     "metadata": {},
     "output_type": "execute_result"
    },
    {
     "data": {
      "image/png": "[encoded data removed]",
      "text/plain": [
       "<Figure size 432x288 with 1 Axes>"
      ]
     },
     "metadata": {
      "needs_background": "light"
     },
     "output_type": "display_data"
    }
   ],
   "source": [
    "# Use the Northern Hemisphere dataframe to generate a scatter plot \n",
    "n_lat = northern_hemisphere['Lat']\n",
    "max_temp = northern_hemisphere['Max Temp']\n",
    "plt.scatter(n_lat,max_temp, edgecolors= \"black\")\n",
    "plt.xlabel('Latitude')\n",
    "plt.ylabel('Wind Speed')\n",
    "plt.title('Northern Hemisphere: Max Temp vs Latitude Linear Regression (01/28/21)')\n",
    "# plt.show()\n",
    "\n",
    "# Perform linear regression on scatter plot\n",
    "(slope, intercept, rvalue, pvalue, stderr) = linregress(n_lat, max_temp)\n",
    "regress_values = n_lat * slope + intercept\n",
    "line_eq = \"y = \" + str(round(slope,2)) + \"x + \" + str(round(intercept,2))\n",
    "plt.annotate(line_eq, (1,-40),fontsize=15,color=\"red\")\n",
    "print(f\"The r-squared is: {rvalue**2}\")\n",
    "plt.plot(n_lat,regress_values,\"r-\")"
   ]
  },
  {
   "cell_type": "markdown",
   "metadata": {},
   "source": [
    "####  Southern Hemisphere - Max Temp vs. Latitude Linear Regression"
   ]
  },
  {
   "cell_type": "code",
   "execution_count": 138,
   "metadata": {},
   "outputs": [
    {
     "name": "stdout",
     "output_type": "stream",
     "text": [
      "The r-squared is: 0.3110030297583685\n"
     ]
    },
    {
     "data": {
      "text/plain": [
       "[<matplotlib.lines.Line2D at 0x23f6e6145e0>]"
      ]
     },
     "execution_count": 138,
     "metadata": {},
     "output_type": "execute_result"
    },
    {
     "data": {
      "image/png": "[encoded data removed]",
      "text/plain": [
       "<Figure size 432x288 with 1 Axes>"
      ]
     },
     "metadata": {
      "needs_background": "light"
     },
     "output_type": "display_data"
    }
   ],
   "source": [
    "# Use the Southern Hemisphere dataframe to generate a scatter plot \n",
    "s_lat = southern_hemisphere['Lat']\n",
    "s_max_temp = southern_hemisphere['Max Temp']\n",
    "plt.scatter(s_lat,s_max_temp, edgecolors= \"black\")\n",
    "plt.xlabel('Latitude')\n",
    "plt.ylabel('Wind Speed')\n",
    "plt.title('Southern Hemisphere: Max Temp vs Latitude Linear Regression (01/28/21)')\n",
    "# plt.show()\n",
    "\n",
    "# Perform linear regression on scatter plot\n",
    "(slope, intercept, rvalue, pvalue, stderr) = linregress(s_lat, s_max_temp)\n",
    "regress_values = s_lat * slope + intercept\n",
    "line_eq = \"y = \" + str(round(slope,2)) + \"x + \" + str(round(intercept,2))\n",
    "plt.annotate(line_eq, (-20, 55),fontsize=15,color=\"red\")\n",
    "print(f\"The r-squared is: {rvalue**2}\")\n",
    "plt.plot(s_lat,regress_values,\"r-\")"
   ]
  },
  {
   "cell_type": "markdown",
   "metadata": {},
   "source": [
    "####  Northern Hemisphere - Humidity (%) vs. Latitude Linear Regression"
   ]
  },
  {
   "cell_type": "code",
   "execution_count": 128,
   "metadata": {},
   "outputs": [
    {
     "name": "stdout",
     "output_type": "stream",
     "text": [
      "The r-squared is: 0.10945775800679719\n"
     ]
    },
    {
     "data": {
      "text/plain": [
       "[<matplotlib.lines.Line2D at 0x23f6d3a25b0>]"
      ]
     },
     "execution_count": 128,
     "metadata": {},
     "output_type": "execute_result"
    },
    {
     "data": {
      "image/png": "[encoded data removed]",
      "text/plain": [
       "<Figure size 432x288 with 1 Axes>"
      ]
     },
     "metadata": {
      "needs_background": "light"
     },
     "output_type": "display_data"
    }
   ],
   "source": [
    "# Use the Northern Hemisphere dataframe to generate a scatter plot \n",
    "n_lat = northern_hemisphere['Lat']\n",
    "n_hum = northern_hemisphere['Humidity']\n",
    "plt.scatter(n_lat,n_hum, edgecolors= \"black\")\n",
    "plt.xlabel('Latitude')\n",
    "plt.ylabel('Humidity (%)')\n",
    "plt.title('Northern Hemisphere: Humidity (%) vs Latitude Linear Regression (01/28/21)')\n",
    "# plt.show()\n",
    "\n",
    "# Perform linear regression on scatter plot\n",
    "(slope, intercept, rvalue, pvalue, stderr) = linregress(n_lat, n_hum)\n",
    "regress_values = n_lat * slope + intercept\n",
    "line_eq = \"y = \" + str(round(slope,2)) + \"x + \" + str(round(intercept,2))\n",
    "plt.annotate(line_eq, (50, 20),fontsize=15,color=\"red\")\n",
    "print(f\"The r-squared is: {rvalue**2}\")\n",
    "plt.plot(n_lat,regress_values,\"r-\")"
   ]
  },
  {
   "cell_type": "markdown",
   "metadata": {},
   "source": [
    "####  Southern Hemisphere - Humidity (%) vs. Latitude Linear Regression"
   ]
  },
  {
   "cell_type": "code",
   "execution_count": 136,
   "metadata": {},
   "outputs": [
    {
     "name": "stdout",
     "output_type": "stream",
     "text": [
      "The r-squared is: 0.18008421738256492\n"
     ]
    },
    {
     "data": {
      "text/plain": [
       "[<matplotlib.lines.Line2D at 0x23f6badad30>]"
      ]
     },
     "execution_count": 136,
     "metadata": {},
     "output_type": "execute_result"
    },
    {
     "data": {
      "image/png": "[encoded data removed]",
      "text/plain": [
       "<Figure size 432x288 with 1 Axes>"
      ]
     },
     "metadata": {
      "needs_background": "light"
     },
     "output_type": "display_data"
    }
   ],
   "source": [
    "# Use the Southern Hemisphere dataframe to generate a scatter plot \n",
    "s_lat = southern_hemisphere['Lat']\n",
    "s_hum = southern_hemisphere['Humidity']\n",
    "plt.scatter(s_lat,s_hum, edgecolors= \"black\")\n",
    "plt.xlabel('Latitude')\n",
    "plt.ylabel('Humidity (%)')\n",
    "plt.title('Southern Hemisphere: Humidity (%) vs Latitude Linear Regression (01/28/21)')\n",
    "# plt.show()\n",
    "\n",
    "# Perform linear regression on scatter plot\n",
    "(slope, intercept, rvalue, pvalue, stderr) = linregress(s_lat, s_hum)\n",
    "regress_values = s_lat * slope + intercept\n",
    "line_eq = \"y = \" + str(round(slope,2)) + \"x + \" + str(round(intercept,2))\n",
    "plt.annotate(line_eq, (-20,30),fontsize=15,color=\"red\")\n",
    "print(f\"The r-squared is: {rvalue**2}\")\n",
    "plt.plot(s_lat,regress_values,\"r-\")"
   ]
  },
  {
   "cell_type": "markdown",
   "metadata": {},
   "source": [
    "####  Northern Hemisphere - Cloudiness (%) vs. Latitude Linear Regression"
   ]
  },
  {
   "cell_type": "code",
   "execution_count": 130,
   "metadata": {},
   "outputs": [
    {
     "name": "stdout",
     "output_type": "stream",
     "text": [
      "The r-squared is: 0.07754135047102007\n"
     ]
    },
    {
     "data": {
      "text/plain": [
       "[<matplotlib.lines.Line2D at 0x23f6d454d60>]"
      ]
     },
     "execution_count": 130,
     "metadata": {},
     "output_type": "execute_result"
    },
    {
     "data": {
      "image/png": "[encoded data removed]",
      "text/plain": [
       "<Figure size 432x288 with 1 Axes>"
      ]
     },
     "metadata": {
      "needs_background": "light"
     },
     "output_type": "display_data"
    }
   ],
   "source": [
    "# Use the Northern Hemisphere dataframe to generate a scatter plot \n",
    "n_lat = northern_hemisphere['Lat']\n",
    "n_cloud = northern_hemisphere['Cloudiness']\n",
    "plt.scatter(n_lat,n_cloud, edgecolors= \"black\")\n",
    "plt.xlabel('Latitude')\n",
    "plt.ylabel('Cloudiness (%)')\n",
    "plt.title('Northern Hemisphere: Cloudiness (%) vs Latitude Linear Regression (01/28/21)')\n",
    "# plt.show()\n",
    "\n",
    "# Perform linear regression on scatter plot\n",
    "(slope, intercept, rvalue, pvalue, stderr) = linregress(n_lat, n_cloud)\n",
    "regress_values = n_lat * slope + intercept\n",
    "line_eq = \"y = \" + str(round(slope,2)) + \"x + \" + str(round(intercept,2))\n",
    "plt.annotate(line_eq, (50, 10),fontsize=15,color=\"red\")\n",
    "print(f\"The r-squared is: {rvalue**2}\")\n",
    "plt.plot(n_lat,regress_values,\"r-\")"
   ]
  },
  {
   "cell_type": "markdown",
   "metadata": {},
   "source": [
    "####  Southern Hemisphere - Cloudiness (%) vs. Latitude Linear Regression"
   ]
  },
  {
   "cell_type": "code",
   "execution_count": 131,
   "metadata": {},
   "outputs": [
    {
     "name": "stdout",
     "output_type": "stream",
     "text": [
      "The r-squared is: 0.10133913250778809\n"
     ]
    },
    {
     "data": {
      "text/plain": [
       "[<matplotlib.lines.Line2D at 0x23f6d4ade20>]"
      ]
     },
     "execution_count": 131,
     "metadata": {},
     "output_type": "execute_result"
    },
    {
     "data": {
      "image/png": "[encoded data removed]",
      "text/plain": [
       "<Figure size 432x288 with 1 Axes>"
      ]
     },
     "metadata": {
      "needs_background": "light"
     },
     "output_type": "display_data"
    }
   ],
   "source": [
    "# Use the Southern Hemisphere dataframe to generate a scatter plot \n",
    "s_lat = southern_hemisphere['Lat']\n",
    "s_cloud = southern_hemisphere['Cloudiness']\n",
    "plt.scatter(s_lat,s_cloud, edgecolors= \"black\")\n",
    "plt.xlabel('Latitude')\n",
    "plt.ylabel('Cloudiness (%)')\n",
    "plt.title('Southern Hemisphere: Cloudiness (%) vs Latitude Linear Regression (01/28/21)')\n",
    "# plt.show()\n",
    "\n",
    "# Perform linear regression on scatter plot\n",
    "(slope, intercept, rvalue, pvalue, stderr) = linregress(s_lat, s_cloud)\n",
    "regress_values = s_lat * slope + intercept\n",
    "line_eq = \"y = \" + str(round(slope,2)) + \"x + \" + str(round(intercept,2))\n",
    "plt.annotate(line_eq, (-55,10),fontsize=15,color=\"red\")\n",
    "print(f\"The r-squared is: {rvalue**2}\")\n",
    "plt.plot(s_lat,regress_values,\"r-\")"
   ]
  },
  {
   "cell_type": "markdown",
   "metadata": {},
   "source": [
    "####  Northern Hemisphere - Wind Speed (mph) vs. Latitude Linear Regression"
   ]
  },
  {
   "cell_type": "code",
   "execution_count": 133,
   "metadata": {},
   "outputs": [
    {
     "name": "stdout",
     "output_type": "stream",
     "text": [
      "The r-squared is: 0.003942621372962136\n"
     ]
    },
    {
     "data": {
      "text/plain": [
       "[<matplotlib.lines.Line2D at 0x23f6e538b20>]"
      ]
     },
     "execution_count": 133,
     "metadata": {},
     "output_type": "execute_result"
    },
    {
     "data": {
      "image/png": "[encoded data removed]",
      "text/plain": [
       "<Figure size 432x288 with 1 Axes>"
      ]
     },
     "metadata": {
      "needs_background": "light"
     },
     "output_type": "display_data"
    }
   ],
   "source": [
    "# Use the Northern Hemisphere dataframe to generate a scatter plot \n",
    "n_lat = northern_hemisphere['Lat']\n",
    "n_wind = northern_hemisphere['Wind Speed']\n",
    "plt.scatter(n_lat,n_wind, edgecolors= \"black\")\n",
    "plt.xlabel('Latitude')\n",
    "plt.ylabel('Wind Speed (mph)')\n",
    "plt.title('Northern Hemisphere: Wind Speed (mph) vs Latitude Linear Regression (01/28/21)')\n",
    "# plt.show()\n",
    "\n",
    "# Perform linear regression on scatter plot\n",
    "(slope, intercept, rvalue, pvalue, stderr) = linregress(n_lat, n_wind)\n",
    "regress_values = n_lat * slope + intercept\n",
    "line_eq = \"y = \" + str(round(slope,2)) + \"x + \" + str(round(intercept,2))\n",
    "plt.annotate(line_eq, (0,30),fontsize=15,color=\"red\")\n",
    "print(f\"The r-squared is: {rvalue**2}\")\n",
    "plt.plot(n_lat,regress_values,\"r-\")"
   ]
  },
  {
   "cell_type": "markdown",
   "metadata": {},
   "source": [
    "####  Southern Hemisphere - Wind Speed (mph) vs. Latitude Linear Regression"
   ]
  },
  {
   "cell_type": "code",
   "execution_count": 135,
   "metadata": {},
   "outputs": [
    {
     "name": "stdout",
     "output_type": "stream",
     "text": [
      "The r-squared is: 0.035349712452280156\n"
     ]
    },
    {
     "data": {
      "text/plain": [
       "[<matplotlib.lines.Line2D at 0x23f6cdd05e0>]"
      ]
     },
     "execution_count": 135,
     "metadata": {},
     "output_type": "execute_result"
    },
    {
     "data": {
      "image/png": "[encoded data removed]",
      "text/plain": [
       "<Figure size 432x288 with 1 Axes>"
      ]
     },
     "metadata": {
      "needs_background": "light"
     },
     "output_type": "display_data"
    }
   ],
   "source": [
    "# Use the Southern Hemisphere dataframe to generate a scatter plot \n",
    "s_lat = southern_hemisphere['Lat']\n",
    "s_wind = southern_hemisphere['Wind Speed']\n",
    "plt.scatter(s_lat,s_wind, edgecolors= \"black\")\n",
    "plt.xlabel('Latitude')\n",
    "plt.ylabel('Wind Speed')\n",
    "plt.title('Southern Hemisphere: Wind Speed (mph) vs Latitude Linear Regression (01/28/21)')\n",
    "# plt.show()\n",
    "\n",
    "# Perform linear regression on scatter plot\n",
    "(slope, intercept, rvalue, pvalue, stderr) = linregress(s_lat, s_wind)\n",
    "regress_values = s_lat * slope + intercept\n",
    "line_eq = \"y = \" + str(round(slope,2)) + \"x + \" + str(round(intercept,2))\n",
    "plt.annotate(line_eq, (-20,25),fontsize=15,color=\"red\")\n",
    "print(f\"The r-squared is: {rvalue**2}\")\n",
    "plt.plot(s_lat,regress_values,\"r-\")"
   ]
  },
  {
   "cell_type": "code",
   "execution_count": null,
   "metadata": {},
   "outputs": [],
   "source": [
    "\n",
    "# plt.scatter(x_values,y_values)\n",
    "# Set formula for linear regression and overlay on scatterplot \n",
    "# slp, intpt, r, p, ste=linregress(n_lat, max_temp)\n",
    "#x=np.arange[n_lat]\n",
    "#\"x=np.arange[n_lat]\n",
    "#y_pred=(x*slp)+intpt\n",
    "#plt.plot(x,y_pred, c=\"r\")\n",
    "#plt.plot(n_lat, max_temp)\n",
    "# plt.scatter(x_values, y_values)\n",
    "#plt.annotate(\"Y=mx+b\", (3, 45), c=\"g\")"
   ]
  },
  {
   "cell_type": "code",
   "execution_count": 37,
   "metadata": {},
   "outputs": [],
   "source": [
    "# cities[1]\n",
    "# print(response)\n",
    "# print(lat)\n",
    "# city=[]\n",
    "#     lat=[]\n",
    "#     lon=[]\n",
    "#     max_temp=[]\n",
    "#     humidity=[]\n",
    "#     cloudiness=[]\n",
    "#     wind_speed=[]\n",
    "#     country=[]\n",
    "#     date=[]\n",
    "#   \"% Passing Reading\": [reading_pass_percent],\n",
    "#     \"% Overall Passing\": [overall_pass_percent]"
   ]
  }
 ],
 "metadata": {
  "anaconda-cloud": {},
  "kernel_info": {
   "name": "python3"
  },
  "kernelspec": {
   "display_name": "Python 3",
   "language": "python",
   "name": "python3"
  },
  "language_info": {
   "codemirror_mode": {
    "name": "ipython",
    "version": 3
   },
   "file_extension": ".py",
   "mimetype": "text/x-python",
   "name": "python",
   "nbconvert_exporter": "python",
   "pygments_lexer": "ipython3",
   "version": "3.8.5"
  },
  "latex_envs": {
   "LaTeX_envs_menu_present": true,
   "autoclose": false,
   "autocomplete": true,
   "bibliofile": "biblio.bib",
   "cite_by": "apalike",
   "current_citInitial": 1,
   "eqLabelWithNumbers": true,
   "eqNumInitial": 1,
   "hotkeys": {
    "equation": "Ctrl-E",
    "itemize": "Ctrl-I"
   },
   "labels_anchors": false,
   "latex_user_defs": false,
   "report_style_numbering": false,
   "user_envs_cfg": false
  },
  "nteract": {
   "version": "0.12.3"
  }
 },
 "nbformat": 4,
 "nbformat_minor": 2
}
